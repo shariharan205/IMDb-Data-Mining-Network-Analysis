{
 "cells": [
  {
   "cell_type": "markdown",
   "metadata": {},
   "source": [
    "<h1> IMDb Actor Actress Network </h1>"
   ]
  },
  {
   "cell_type": "markdown",
   "metadata": {},
   "source": [
    "<h2> Util methods </h2>"
   ]
  },
  {
   "cell_type": "code",
   "execution_count": 2,
   "metadata": {},
   "outputs": [],
   "source": [
    "import re\n",
    "import numpy as np\n",
    "import pickle\n",
    "import itertools"
   ]
  },
  {
   "cell_type": "code",
   "execution_count": 2,
   "metadata": {},
   "outputs": [],
   "source": [
    "def remove_brackets(var):\n",
    "    #return re.sub(\"[\\(].*?[\\)]\", \"\", var)\n",
    "    #including year in movie\n",
    "    i = var.find(\")\")\n",
    "    \n",
    "    if i == -1:\n",
    "        return re.sub(\"[\\(].*?[\\)]\", \"\", var)\n",
    "    \n",
    "    else:\n",
    "        return var[:i+1] + re.sub(\"[\\(].*?[\\)]\", \"\", var[i+1:])\n",
    "\n",
    "def clean_actor_name(name):\n",
    "    name = name.replace(\"&#378;\",\"z\")\n",
    "    return name\n",
    "    \n",
    "\n",
    "#def total_length(list_of_lists):\n",
    "#    return len(set(itertools.chain.from_iterable(([i[1:] for i in list_of_lists]))))\n",
    "\n",
    "def total_length(dictionary):\n",
    "    unique = set([])\n",
    "    for k,v in dictionary.items():\n",
    "        for i in v:\n",
    "            unique.add(i)\n",
    "    return len(unique)"
   ]
  },
  {
   "cell_type": "code",
   "execution_count": 3,
   "metadata": {},
   "outputs": [],
   "source": [
    "def preprocess(actors):\n",
    "    \n",
    "    actor_movie_map = {}\n",
    "\n",
    "    for act in actors:\n",
    "        \n",
    "        movies = act.split('\\t\\t')\n",
    "        movie_names = map(remove_brackets, movies[1:])\n",
    "        mov = list(set([movie.strip('\\n').strip() for movie in movie_names]))\n",
    "        \n",
    "        if len(mov) >= 10:    \n",
    "            actor_name =  clean_actor_name(movies[0])\n",
    "            actor_movie_map[actor_name] = mov\n",
    "            \n",
    "    return actor_movie_map"
   ]
  }
 ],
 "metadata": {
  "kernelspec": {
   "display_name": "Python 3",
   "language": "python",
   "name": "python3"
  },
  "language_info": {
   "codemirror_mode": {
    "name": "ipython",
    "version": 3
   },
   "file_extension": ".py",
   "mimetype": "text/x-python",
   "name": "python",
   "nbconvert_exporter": "python",
   "pygments_lexer": "ipython3",
   "version": "3.6.3"
  }
 },
 "nbformat": 4,
 "nbformat_minor": 2
}
