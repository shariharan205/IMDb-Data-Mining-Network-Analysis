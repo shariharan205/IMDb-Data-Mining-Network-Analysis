{
 "cells": [
  {
   "cell_type": "markdown",
   "metadata": {},
   "source": [
    "<h1> IMDb Actor Actress Network </h1>"
   ]
  },
  {
   "cell_type": "markdown",
   "metadata": {},
   "source": [
    "<h2> Util methods </h2>"
   ]
  },
  {
   "cell_type": "code",
   "execution_count": 2,
   "metadata": {},
   "outputs": [],
   "source": [
    "import re\n",
    "import numpy as np\n",
    "import pickle\n",
    "import itertools"
   ]
  },
  {
   "cell_type": "code",
   "execution_count": 2,
   "metadata": {},
   "outputs": [],
   "source": [
    "def remove_brackets(var):\n",
    "    #return re.sub(\"[\\(].*?[\\)]\", \"\", var)\n",
    "    #including year in movie\n",
    "    i = var.find(\")\")\n",
    "    \n",
    "    if i == -1:\n",
    "        return re.sub(\"[\\(].*?[\\)]\", \"\", var)\n",
    "    \n",
    "    else:\n",
    "        return var[:i+1] + re.sub(\"[\\(].*?[\\)]\", \"\", var[i+1:])\n",
    "\n",
    "def clean_actor_name(name):\n",
    "    name = name.replace(\"&#378;\",\"z\")\n",
    "    return name\n",
    "    \n",
    "\n",
    "#def total_length(list_of_lists):\n",
    "#    return len(set(itertools.chain.from_iterable(([i[1:] for i in list_of_lists]))))\n",
    "\n",
    "def total_length(dictionary):\n",
    "    unique = set([])\n",
    "    for k,v in dictionary.items():\n",
    "        for i in v:\n",
    "            unique.add(i)\n",
    "    return len(unique)"
   ]
  },
  {
   "cell_type": "code",
   "execution_count": 3,
   "metadata": {},
   "outputs": [],
   "source": [
    "def preprocess(actors):\n",
    "    \n",
    "    actor_movie_map = {}\n",
    "\n",
    "    for act in actors:\n",
    "        \n",
    "        movies = act.split('\\t\\t')\n",
    "        movie_names = map(remove_brackets, movies[1:])\n",
    "        mov = list(set([movie.strip('\\n').strip() for movie in movie_names]))\n",
    "        \n",
    "        if len(mov) >= 10:    \n",
    "            actor_name =  clean_actor_name(movies[0])\n",
    "            actor_movie_map[actor_name] = mov\n",
    "            \n",
    "    return actor_movie_map"
   ]
  },
  {
   "cell_type": "markdown",
   "metadata": {},
   "source": [
    "<h2> Preprocessing and Insights </h2>"
   ]
  },
  {
   "cell_type": "code",
   "execution_count": 4,
   "metadata": {},
   "outputs": [],
   "source": [
    "actors = list(open(\"project4_data/actor_movies.txt\", \"r\"))\n",
    "actress = list(open(\"project4_data/actress_movies.txt\", \"r\"))"
   ]
  },
  {
   "cell_type": "code",
   "execution_count": 5,
   "metadata": {},
   "outputs": [
    {
     "name": "stdout",
     "output_type": "stream",
     "text": [
      "Considering people acted in >= 10 unique movies\n",
      "Total Number of Actors -  74586\n",
      "Total Number of Actress -  38528\n"
     ]
    }
   ],
   "source": [
    "actors_movie_map = preprocess(actors)\n",
    "actress_movie_map = preprocess(actress)\n",
    "print(\"Considering people acted in >= 10 unique movies\")\n",
    "print(\"Total Number of Actors - \", len(actors_movie_map.keys()))\n",
    "print(\"Total Number of Actress - \", len(actress_movie_map.keys()))"
   ]
  },
  {
   "cell_type": "code",
   "execution_count": 6,
   "metadata": {},
   "outputs": [
    {
     "name": "stdout",
     "output_type": "stream",
     "text": [
      "Total number of actors and actresses -  113114\n"
     ]
    }
   ],
   "source": [
    "actor_movie_map = {**actors_movie_map, **actress_movie_map}\n",
    "print(\"Total number of actors and actresses - \", len(actor_movie_map.keys()))"
   ]
  },
  {
   "cell_type": "code",
   "execution_count": 7,
   "metadata": {},
   "outputs": [
    {
     "name": "stdout",
     "output_type": "stream",
     "text": [
      "Unique Number of Actors Movies -  428998\n",
      "Unique Number of Actress Movies -  328739\n",
      "Unique Number of Overall Movies -  468458\n"
     ]
    }
   ],
   "source": [
    "print(\"Unique Number of Actors Movies - \", total_length(actors_movie_map))\n",
    "print(\"Unique Number of Actress Movies - \", total_length(actress_movie_map))\n",
    "print(\"Unique Number of Overall Movies - \", total_length(actor_movie_map))"
   ]
  },
  {
   "cell_type": "code",
   "execution_count": 8,
   "metadata": {},
   "outputs": [],
   "source": [
    "num_movies = {}\n",
    "for key, val in actor_movie_map.items():\n",
    "    num_movies[key] = len(val)"
   ]
  },
  {
   "cell_type": "code",
   "execution_count": 9,
   "metadata": {},
   "outputs": [],
   "source": [
    "movie_actor_map = {}\n",
    "\n",
    "for actor, movies in actor_movie_map.items():\n",
    "    \n",
    "    for movie in movies:\n",
    "        \n",
    "        if movie_actor_map.get(movie):\n",
    "            movie_actor_map[movie].append(actor)\n",
    "        else:\n",
    "            movie_actor_map[movie] = [actor]"
   ]
  },
  {
   "cell_type": "code",
   "execution_count": 10,
   "metadata": {},
   "outputs": [],
   "source": [
    "actor_pairings = {}\n",
    "\n",
    "for movie, actors in movie_actor_map.items():\n",
    "    comb = map(tuple,map(sorted, list(itertools.combinations(actors, 2))))\n",
    "    for c in comb:\n",
    "        if actor_pairings.get(c):\n",
    "            actor_pairings[c] += 1\n",
    "        else:\n",
    "            actor_pairings[c] = 1"
   ]
  },
  {
   "cell_type": "code",
   "execution_count": 11,
   "metadata": {},
   "outputs": [],
   "source": [
    "movie_pairings = {}\n",
    "\n",
    "for actor, movies in actor_movie_map.items():\n",
    "    comb = map(tuple,map(sorted, list(itertools.combinations(movies, 2))))\n",
    "    for c in comb:\n",
    "        if movie_pairings.get(c):\n",
    "            movie_pairings[c] += 1\n",
    "        else:\n",
    "            movie_pairings[c] = 1"
   ]
  },
  {
   "cell_type": "code",
   "execution_count": 11,
   "metadata": {},
   "outputs": [],
   "source": [
    "edge_list = open('edge_weights_list.txt','a')\n",
    "\n",
    "for pair, count in actor_pairings.items():\n",
    "\n",
    "    edge_list.write('\\t'.join([pair[0], pair[1], str(count / num_movies[pair[0]])]))    \n",
    "    edge_list.write('\\n') \n",
    "    edge_list.write('\\t'.join([pair[1], pair[0], str(count / num_movies[pair[1]])]))     \n",
    "    edge_list.write('\\n')"
   ]
  },
  {
   "cell_type": "code",
   "execution_count": 14,
   "metadata": {},
   "outputs": [],
   "source": [
    "def get_prefered_co_actor(actor_name):\n",
    "    \n",
    "    max_w_ij = -float(\"inf\")\n",
    "    \n",
    "    actor_movie_list = actor_movie_map[actor_name]\n",
    "    \n",
    "    for key, val in actor_movie_map.items():\n",
    "        if key != actor_name:\n",
    "            w_ij = len(set(actor_movie_list).intersection(set(val))) / len(actor_movie_list)\n",
    "            \n",
    "            if w_ij > max_w_ij:\n",
    "                max_w_ij = w_ij\n",
    "                preferred_actor = [(key, w_ij)]\n",
    "                \n",
    "            elif w_ij == max_w_ij:\n",
    "                preferred_actor.append((key, w_ij))\n",
    "\n",
    "    return preferred_actor "
   ]
  },
  {
   "cell_type": "markdown",
   "metadata": {},
   "source": [
    "<h2> Preferred Co-Actor </h2>"
   ]
  },
  {
   "cell_type": "code",
   "execution_count": 15,
   "metadata": {},
   "outputs": [
    {
     "name": "stdout",
     "output_type": "stream",
     "text": [
      "Cruise, Tom  :  [('Kidman, Nicole', 0.1746031746031746)]\n",
      "Watson, Emma (II)  :  [('Radcliffe, Daniel', 0.52)]\n",
      "Clooney, George  :  [('Damon, Matt', 0.11940298507462686)]\n",
      "Hanks, Tom  :  [('Allen, Tim (I)', 0.10126582278481013)]\n",
      "Johnson, Dwayne (I)  :  [('Austin, Steve (IV)', 0.20512820512820512), ('Calaway, Mark', 0.20512820512820512), ('Levesque, Paul (I)', 0.20512820512820512)]\n",
      "Depp, Johnny  :  [('Bonham Carter, Helena', 0.08163265306122448)]\n",
      "Smith, Will (I)  :  [('Foster, Darrell', 0.12244897959183673)]\n",
      "Streep, Meryl  :  [('De Niro, Robert', 0.061855670103092786), ('Kline, Kevin (I)', 0.061855670103092786)]\n",
      "DiCaprio, Leonardo  :  [('Scorsese, Martin', 0.10204081632653061)]\n",
      "Pitt, Brad  :  [('Clooney, George', 0.09859154929577464)]\n"
     ]
    }
   ],
   "source": [
    "actor_pairings = [\"Cruise, Tom\", \"Watson, Emma (II)\", \"Clooney, George\", \n",
    "                  \"Hanks, Tom\", \"Johnson, Dwayne (I)\", \"Depp, Johnny\", \n",
    "                  \"Smith, Will (I)\", \"Streep, Meryl\", \"DiCaprio, Leonardo\", \"Pitt, Brad\"]\n",
    "\n",
    "for i in actor_pairings:\n",
    "    j = get_prefered_co_actor(i)\n",
    "    print(i, \" : \", j)"
   ]
  },
  {
   "cell_type": "markdown",
   "metadata": {},
   "source": [
    "<h2> PageRank on Actor Network </h2>"
   ]
  },
  {
   "cell_type": "code",
   "execution_count": 17,
   "metadata": {},
   "outputs": [
    {
     "name": "stdout",
     "output_type": "stream",
     "text": [
      "Top 10 Page Rank scores\n",
      "\n",
      "Actor Name - Number of Movies\n",
      "\n",
      "Flowers, Bess  -  828\n",
      "Tatasciore, Fred  -  353\n",
      "Harris, Sam (II)  -  600\n",
      "Blum, Steve (IX)  -  373\n",
      "Miller, Harold (I)  -  561\n",
      "Jeremy, Ron  -  637\n",
      "Phelps, Lee (I)  -  647\n",
      "Lowenthal, Yuri  -  318\n",
      "Downes, Robin Atkin  -  267\n",
      "O'Connor, Frank (I)  -  623\n"
     ]
    }
   ],
   "source": [
    "top10_pagerank = open('top10_pagerank_actors.txt').read().split('\\n')\n",
    "\n",
    "print(\"Top 10 Page Rank scores\")\n",
    "print(\"\\nActor Name - Number of Movies\\n\")\n",
    "for i in top10_pagerank:\n",
    "    if i:\n",
    "        print(i, \" - \", num_movies[i])"
   ]
  },
  {
   "cell_type": "markdown",
   "metadata": {},
   "source": [
    "<h2> A list of famous actors and their information </h2>"
   ]
  },
  {
   "cell_type": "code",
   "execution_count": 19,
   "metadata": {},
   "outputs": [
    {
     "name": "stdout",
     "output_type": "stream",
     "text": [
      "Famous Actors\n",
      "\n",
      "Actor Name - Number of Movies\n",
      "\n",
      "Cruise, Tom  -  63\n",
      "Watson, Emma (II)  -  25\n",
      "Clooney, George  -  67\n",
      "Hanks, Tom  -  79\n",
      "Johnson, Dwayne (I)  -  78\n",
      "Depp, Johnny  -  98\n",
      "Smith, Will (I)  -  49\n",
      "Streep, Meryl  -  97\n",
      "DiCaprio, Leonardo  -  49\n",
      "Pitt, Brad  -  71\n"
     ]
    }
   ],
   "source": [
    "print(\"Famous Actors\")\n",
    "\n",
    "print(\"\\nActor Name - Number of Movies\\n\")\n",
    "\n",
    "for i in actor_pairings:\n",
    "    if i:\n",
    "        print(i, \" - \", num_movies[i])"
   ]
  },
  {
   "cell_type": "markdown",
   "metadata": {},
   "source": [
    "<h2> Creating movie network weights based on Jaccard score </h2>"
   ]
  },
  {
   "cell_type": "code",
   "execution_count": 15,
   "metadata": {},
   "outputs": [],
   "source": [
    "movie_network_weights = open('movienetwork_weights.txt','a')\n",
    "\n",
    "for pair, count in movie_pairings.items():\n",
    "    \n",
    "    num_actors_movie_i = len(movie_actor_map[pair[0]])\n",
    "    num_actors_movie_j = len(movie_actor_map[pair[1]])\n",
    "    \n",
    "    if num_actors_movie_i >= 5 and num_actors_movie_j >= 5:\n",
    "\n",
    "        intersection = count\n",
    "        union = len(movie_actor_map[pair[0]]) + len(movie_actor_map[pair[1]]) - intersection\n",
    "        w_ij = intersection/union\n",
    "        \n",
    "        if w_ij:\n",
    "            movie_network_weights.write('\\t'.join([pair[0], pair[1], str(w_ij)]))    \n",
    "            movie_network_weights.write('\\n') "
   ]
  },
  {
   "cell_type": "markdown",
   "metadata": {},
   "source": [
    "<h2> Save data as pickle object for future use </h2>"
   ]
  },
  {
   "cell_type": "code",
   "execution_count": null,
   "metadata": {},
   "outputs": [],
   "source": [
    "# Saving the objects:\n",
    "with open('actor_movie_map.pkl', 'wb') as f:\n",
    "    pickle.dump([actor_movie_map], f)\n",
    "\n",
    "with open('movie_actor_map.pkl', 'wb') as f:\n",
    "    pickle.dump([movie_actor_map], f)\n"
   ]
  }
 ],
 "metadata": {
  "kernelspec": {
   "display_name": "Python 3",
   "language": "python",
   "name": "python3"
  },
  "language_info": {
   "codemirror_mode": {
    "name": "ipython",
    "version": 3
   },
   "file_extension": ".py",
   "mimetype": "text/x-python",
   "name": "python",
   "nbconvert_exporter": "python",
   "pygments_lexer": "ipython3",
   "version": "3.6.3"
  }
 },
 "nbformat": 4,
 "nbformat_minor": 2
}
